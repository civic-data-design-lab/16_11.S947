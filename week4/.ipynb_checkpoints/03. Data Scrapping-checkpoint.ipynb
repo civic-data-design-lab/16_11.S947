{
 "cells": [
  {
   "cell_type": "markdown",
   "metadata": {
    "slideshow": {
     "slide_type": "slide"
    }
   },
   "source": [
    "Big Data And Society: Lab 3\n",
    "=====\n"
   ]
  },
  {
   "cell_type": "markdown",
   "metadata": {},
   "source": [
    "# Data Scraping"
   ]
  },
  {
   "cell_type": "markdown",
   "metadata": {},
   "source": [
    "### 0. Importing the library\n",
    "\n",
    "First we need to import the libraries, and some of their components. We will be using **Twython**, a library that provides wrappers around Twitter's API. To install **Twython** on a terminal or the command line, run the following command:\n",
    "```\n",
    "pip install twython\n",
    "```\n",
    "\n",
    "We also need to create a Python file that will contain the **Twitter** keys. It is never a good idea to host these keys on a public website like **github**, so one way to keep them private is importing the keys as a variable from a separate, untracked file. If you haven’t done so, at this point you should obtain your twitter API keys. Create a python file on the same directory of your **IPython** notebook, and name it: **`twitter_key.py`**.\n",
    "```Python\n",
    "# In the file you should define two variables:\n",
    "t_key = ‘your twitter key’\n",
    "t_secret = ‘your twitter secret’\n",
    "```\n"
   ]
  },
  {
   "cell_type": "code",
   "execution_count": 2,
   "metadata": {
    "collapsed": false
   },
   "outputs": [],
   "source": [
    "import json\n",
    "import time\n",
    "import threading\n",
    "\n",
    "from datetime import datetime\n",
    "from twython import Twython\n",
    "\n",
    "# Imports the keys from the python file\n",
    "from twitter_key import t_key, t_secret"
   ]
  },
  {
   "cell_type": "markdown",
   "metadata": {},
   "source": [
    "### 1. Query the Twitter API\n",
    "Now we are going to construct a **Twython** object; this object simplifies the access to the API, and provides methods for accessing the API’s endpoints. The first function fetches tweets with a given query at a given lat-long. We will be using the search parameters to hit the APIs endpoint. We need to provide the lat/lon of the centroid of the area we want to query, maximum number of tweets to return, and area within the centroid to search for, among others. \n",
    "\n",
    "Additional documentation of the Twython API can be found [here]( https://twython.readthedocs.org/en/latest/)\n"
   ]
  },
  {
   "cell_type": "code",
   "execution_count": 3,
   "metadata": {
    "collapsed": false
   },
   "outputs": [],
   "source": [
    "# Assigns the keys to the variables\n",
    "APP_KEY = t_key\n",
    "APP_SECRET = t_secret\n",
    "\n",
    "''' Fetches tweets with a given query at a given lat-long.'''\n",
    "def get_tweets( latlong=None ):\n",
    "    # Creates a Twithon object with the given keys\n",
    "    twitter = Twython( APP_KEY, APP_SECRET )\n",
    "    # Uses the search function to hit the APIs endpoints and look for recent tweets within the area\n",
    "    results = twitter.search( geocode=','.join([ str(x) for x in latlong ]) + ',15km', result_type='recent', count=10000)\n",
    "    # Returns the only the statuses from the resulting JSON\n",
    "    return results['statuses']"
   ]
  },
  {
   "cell_type": "markdown",
   "metadata": {},
   "source": [
    "### 2. Hit the API and Parse the Result\n",
    "We are going to create a function to help us repeatedly hit the API, and parse the result into a readable JSON that contains the things that we are interested in, and still stores the raw tweet as an additional property. The returned object is a Python `dict` that we can easily parse into another dictionary to later store as a JSON. Raw JSONs returned from the API have a specific structure. It can be sometimes hard to read a raw JSON. I find it easy to use some online parses like [this]( http://json.parser.online.fr/) to look at the structure of the JSON, and only access what we care about. \n"
   ]
  },
  {
   "cell_type": "code",
   "execution_count": 4,
   "metadata": {
    "collapsed": true
   },
   "outputs": [],
   "source": [
    "\"\"\" Does pretty much what its long name suggests. \"\"\"\n",
    "def get_lots_of_tweets( latlong ):\n",
    "    # Create a dictionary to parse the JSON\n",
    "    all_tweets = {}\n",
    "    \n",
    "    # We will be hitting the API a number of times within the total time\n",
    "    total_time = 120\n",
    "    # Everytime we hit the API we subtract time from the total\n",
    "    remaining_seconds = total_time\n",
    "    interval = 30 \n",
    "    while remaining_seconds > 0:\n",
    "        added = 0\n",
    "        # We hit the Twitter API\n",
    "        new_tweets = get_tweets( latlong )\n",
    "        # We parse the resulting JSON, and save the rest of the raw content\n",
    "        for tweet in new_tweets:\n",
    "            tid = tweet['id']\n",
    "            if tid not in all_tweets and tweet['coordinates'] != None:\n",
    "                properties = {}\n",
    "                properties['lat'] = tweet['coordinates']['coordinates'][0]\n",
    "                properties['lon'] = tweet['coordinates']['coordinates'][1]\n",
    "                properties['tweet_id'] = tid\n",
    "                properties['content'] = tweet['text']\n",
    "                properties['user'] = tweet['user']['id']\n",
    "                properties['user_location'] = tweet['user']['location']\n",
    "                properties['raw_source'] = tweet\n",
    "                properties['data_point'] = 'none'\n",
    "                properties['time'] = tweet['created_at']\n",
    "                all_tweets[ tid ] = properties\n",
    "                added += 1\n",
    "        print \"At %d seconds, added %d new tweets, for a total of %d\" % ( total_time - remaining_seconds, added, len( all_tweets ) )\n",
    "        # We wait a few seconds and hit the API again\n",
    "        time.sleep(interval)\n",
    "        remaining_seconds -= interval\n",
    "    # We return the final dictionary\n",
    "    return all_tweets"
   ]
  },
  {
   "cell_type": "markdown",
   "metadata": {},
   "source": [
    "### 3. Run the Functions\n",
    "\n",
    "We need to call the functions, and save the JSONs into a location. In this case, I made a folder called `twitter`, where I a m saving all the new JSONS. We can run the code continuously utilizing some loop, or we can use libraries like `threading`. \n"
   ]
  },
  {
   "cell_type": "code",
   "execution_count": 5,
   "metadata": {
    "collapsed": false
   },
   "outputs": [
    {
     "name": "stderr",
     "output_type": "stream",
     "text": [
      "c:\\Users\\carlos\\Anaconda\\lib\\site-packages\\requests\\packages\\urllib3\\util\\ssl_.py:90: InsecurePlatformWarning: A true SSLContext object is not available. This prevents urllib3 from configuring SSL appropriately and may cause certain SSL connections to fail. For more information, see https://urllib3.readthedocs.org/en/latest/security.html#insecureplatformwarning.\n",
      "  InsecurePlatformWarning\n",
      "c:\\Users\\carlos\\Anaconda\\lib\\site-packages\\requests\\packages\\urllib3\\util\\ssl_.py:90: InsecurePlatformWarning: A true SSLContext object is not available. This prevents urllib3 from configuring SSL appropriately and may cause certain SSL connections to fail. For more information, see https://urllib3.readthedocs.org/en/latest/security.html#insecureplatformwarning.\n",
      "  InsecurePlatformWarning\n"
     ]
    },
    {
     "name": "stdout",
     "output_type": "stream",
     "text": [
      "At 0 seconds, added 88 new tweets, for a total of 88\n",
      "At 30 seconds, added 0 new tweets, for a total of 88\n",
      "At 60 seconds, added 2 new tweets, for a total of 90"
     ]
    },
    {
     "name": "stderr",
     "output_type": "stream",
     "text": [
      "c:\\Users\\carlos\\Anaconda\\lib\\site-packages\\requests\\packages\\urllib3\\util\\ssl_.py:90: InsecurePlatformWarning: A true SSLContext object is not available. This prevents urllib3 from configuring SSL appropriately and may cause certain SSL connections to fail. For more information, see https://urllib3.readthedocs.org/en/latest/security.html#insecureplatformwarning.\n",
      "  InsecurePlatformWarning\n",
      "c:\\Users\\carlos\\Anaconda\\lib\\site-packages\\requests\\packages\\urllib3\\util\\ssl_.py:90: InsecurePlatformWarning: A true SSLContext object is not available. This prevents urllib3 from configuring SSL appropriately and may cause certain SSL connections to fail. For more information, see https://urllib3.readthedocs.org/en/latest/security.html#insecureplatformwarning.\n",
      "  InsecurePlatformWarning\n"
     ]
    },
    {
     "name": "stdout",
     "output_type": "stream",
     "text": [
      "\n",
      "At 90 seconds, added 1 new tweets, for a total of 91\n"
     ]
    }
   ],
   "source": [
    "'''This function executes the rest of the functions over a given period of time'''\n",
    "def run():\n",
    "    # This is the number of times the code will be executed. In this case, just once. \n",
    "    starting = 1\n",
    "    while starting > 0:\n",
    "        # Sometimes the API returns some errors, killing the whole script, so we setup try/except to make sure it keeps running\n",
    "        try:\n",
    "            # We define a centroid in Riyadh\n",
    "            latlong = [24.6333, 46.7167]\n",
    "            t = get_lots_of_tweets( latlong )\n",
    "            # We name every file with the current time\n",
    "            timestr = time.strftime(\"%Y%m%d-%H%M%S\")\n",
    "            # We write a new JSON into the target path\n",
    "            with open( 'twitter\\%stweets.json' %(timestr), 'w' ) as f:\n",
    "                f.write( json.dumps(t))\n",
    "            # we can use a library like threading to execute the run function continuously.\n",
    "            #threading.Timer(10, run).start()\n",
    "            starting -= 1\n",
    "        except:\n",
    "            pass\n",
    "    \n",
    "run()"
   ]
  },
  {
   "cell_type": "markdown",
   "metadata": {},
   "source": [
    "### 4. Parse the JSONs\n",
    "Once we have collected some data, we can parse it, and visualize some of the results. Since some of the data is repeated, we can initialize some lists to check whether or not a tweet already exists, and add it to the list. We can then extract the useful information for our purposes, and store it in another list.\n"
   ]
  },
  {
   "cell_type": "code",
   "execution_count": 6,
   "metadata": {
    "collapsed": false
   },
   "outputs": [
    {
     "data": {
      "text/plain": [
       "array([[ 46.7224    ,  24.688     ],\n",
       "       [ 46.749109  ,  24.6165418 ],\n",
       "       [ 46.7224    ,  24.688     ],\n",
       "       [ 46.66844559,  24.71509708],\n",
       "       [ 46.66058958,  24.70895953],\n",
       "       [ 46.6361233 ,  24.6052825 ],\n",
       "       [ 46.7491197 ,  24.6165382 ],\n",
       "       [ 46.6625781 ,  24.530603  ],\n",
       "       [ 46.7491224 ,  24.6165346 ],\n",
       "       [ 46.69048964,  24.76272393],\n",
       "       [ 46.6361439 ,  24.6052707 ],\n",
       "       [ 46.52210643,  24.57725416],\n",
       "       [ 46.62635964,  24.50590345],\n",
       "       [ 46.53208656,  24.63558723],\n",
       "       [ 46.53210786,  24.63558919],\n",
       "       [ 46.6995952 ,  24.55569596],\n",
       "       [ 46.64944724,  24.65343779],\n",
       "       [ 46.68321187,  24.7208641 ],\n",
       "       [ 46.7224    ,  24.688     ],\n",
       "       [ 46.6625772 ,  24.5306134 ],\n",
       "       [ 46.7491128 ,  24.6165287 ],\n",
       "       [ 46.7224    ,  24.688     ],\n",
       "       [ 46.53200135,  24.63557461],\n",
       "       [ 46.69979764,  24.55571394],\n",
       "       [ 46.7491321 ,  24.616545  ],\n",
       "       [ 46.7224    ,  24.688     ],\n",
       "       [ 46.69958186,  24.5557179 ],\n",
       "       [ 46.66642802,  24.67411112],\n",
       "       [ 46.5221741 ,  24.57717998],\n",
       "       [ 46.62633132,  24.50566062],\n",
       "       [ 46.7224    ,  24.688     ],\n",
       "       [ 46.7491129 ,  24.6165365 ],\n",
       "       [ 46.52158929,  24.5772847 ],\n",
       "       [ 46.75439724,  24.74335689],\n",
       "       [ 46.78323188,  24.69678446],\n",
       "       [ 46.8713776 ,  24.665323  ],\n",
       "       [ 46.62638389,  24.50591213],\n",
       "       [ 46.5222494 ,  24.5773436 ],\n",
       "       [ 46.869588  ,  24.6635167 ],\n",
       "       [ 46.7728    ,  24.6408    ],\n",
       "       [ 46.52161476,  24.57727042],\n",
       "       [ 46.66643079,  24.67411168],\n",
       "       [ 46.72518228,  24.76075355],\n",
       "       [ 46.6361377 ,  24.6052935 ],\n",
       "       [ 46.72518237,  24.76075357],\n",
       "       [ 46.62632261,  24.50573879],\n",
       "       [ 46.855178  ,  24.730302  ],\n",
       "       [ 46.7411917 ,  24.6219005 ],\n",
       "       [ 46.7491076 ,  24.6165376 ],\n",
       "       [ 46.654006  ,  24.7372089 ],\n",
       "       [ 46.6361301 ,  24.6052936 ],\n",
       "       [ 46.7491093 ,  24.6165404 ],\n",
       "       [ 46.714585  ,  24.647325  ],\n",
       "       [ 46.69966791,  24.55593347],\n",
       "       [ 46.68249   ,  24.71058   ],\n",
       "       [ 46.52157947,  24.57728018],\n",
       "       [ 46.69959306,  24.5558283 ],\n",
       "       [ 46.69957064,  24.55571385],\n",
       "       [ 46.62637975,  24.50591535],\n",
       "       [ 46.5834373 ,  24.56205598],\n",
       "       [ 46.73001734,  24.65928563],\n",
       "       [ 46.64178031,  24.69455377],\n",
       "       [ 46.6625772 ,  24.5306134 ],\n",
       "       [ 46.70097822,  24.74868194],\n",
       "       [ 46.71576183,  24.68537999],\n",
       "       [ 46.6361311 ,  24.6052973 ],\n",
       "       [ 46.49099296,  24.60921927],\n",
       "       [ 46.55277267,  24.62956428],\n",
       "       [ 46.73301   ,  24.68843   ],\n",
       "       [ 46.65411568,  24.75523329],\n",
       "       [ 46.70815036,  24.68557762],\n",
       "       [ 46.75593734,  24.767025  ],\n",
       "       [ 46.68325291,  24.73199768],\n",
       "       [ 46.69086   ,  24.657     ],\n",
       "       [ 46.69487848,  24.69504969],\n",
       "       [ 46.72700039,  24.75599792],\n",
       "       [ 46.61937   ,  24.68299   ],\n",
       "       [ 46.64166973,  24.69458877],\n",
       "       [ 46.78749451,  24.7228195 ],\n",
       "       [ 46.7586832 ,  24.6955173 ],\n",
       "       [ 46.69241075,  24.75392179],\n",
       "       [ 46.758696  ,  24.6955116 ],\n",
       "       [ 46.7728    ,  24.6408    ],\n",
       "       [ 46.75593734,  24.767025  ],\n",
       "       [ 46.65752   ,  24.72207   ],\n",
       "       [ 46.73248294,  24.75710051],\n",
       "       [ 46.65695   ,  24.72141   ],\n",
       "       [ 46.7037573 ,  24.68794484],\n",
       "       [ 46.758696  ,  24.6955116 ],\n",
       "       [ 46.7224    ,  24.688     ],\n",
       "       [ 46.6963689 ,  24.7586253 ],\n",
       "       [ 46.7728    ,  24.6408    ],\n",
       "       [ 46.6182    ,  24.74703   ],\n",
       "       [ 46.8195054 ,  24.7275771 ],\n",
       "       [ 46.59678226,  24.69084939],\n",
       "       [ 46.67821349,  24.63288963],\n",
       "       [ 46.838459  ,  24.7430084 ],\n",
       "       [ 46.84187967,  24.74901873],\n",
       "       [ 46.69541176,  24.69321129],\n",
       "       [ 46.69541176,  24.69321129],\n",
       "       [ 46.8016551 ,  24.7241196 ],\n",
       "       [ 46.72519   ,  24.67761   ],\n",
       "       [ 46.758682  ,  24.6955183 ],\n",
       "       [ 46.68325291,  24.73199768],\n",
       "       [ 46.72185   ,  24.68773   ],\n",
       "       [ 46.78447   ,  24.71939   ],\n",
       "       [ 46.6951766 ,  24.6755178 ],\n",
       "       [ 46.55272376,  24.62956675],\n",
       "       [ 46.7236745 ,  24.6829553 ],\n",
       "       [ 46.758699  ,  24.6955123 ],\n",
       "       [ 46.77582   ,  24.7457    ],\n",
       "       [ 46.6623462 ,  24.5912985 ],\n",
       "       [ 46.69487848,  24.69504969],\n",
       "       [ 46.85634731,  24.74885545],\n",
       "       [ 46.6951444 ,  24.6755555 ],\n",
       "       [ 46.77514616,  24.72291606],\n",
       "       [ 46.7224    ,  24.688     ],\n",
       "       [ 46.68959928,  24.69880857],\n",
       "       [ 46.690058  ,  24.7271241 ],\n",
       "       [ 46.78349054,  24.69683262],\n",
       "       [ 46.6805485 ,  24.5947125 ],\n",
       "       [ 46.68325291,  24.73199768],\n",
       "       [ 46.758685  ,  24.6955168 ],\n",
       "       [ 46.706492  ,  24.5633104 ],\n",
       "       [ 46.5834829 ,  24.7489424 ],\n",
       "       [ 46.56871058,  24.57977918],\n",
       "       [ 46.7586794 ,  24.6955218 ],\n",
       "       [ 46.7728    ,  24.6408    ],\n",
       "       [ 46.63860042,  24.59045329],\n",
       "       [ 46.69541176,  24.69321129],\n",
       "       [ 46.73022057,  24.664588  ],\n",
       "       [ 46.7224    ,  24.688     ],\n",
       "       [ 46.77581714,  24.71065635],\n",
       "       [ 46.78329566,  24.69674192],\n",
       "       [ 46.56866664,  24.57978536],\n",
       "       [ 46.7586832 ,  24.6955173 ],\n",
       "       [ 46.63882894,  24.69319835],\n",
       "       [ 46.84407011,  24.74749697],\n",
       "       [ 46.71424   ,  24.68918   ],\n",
       "       [ 46.71402   ,  24.69047   ],\n",
       "       [ 46.62104081,  24.74465831],\n",
       "       [ 46.7711552 ,  24.5906531 ],\n",
       "       [ 46.67737876,  24.67182442],\n",
       "       [ 46.56278   ,  24.55328   ],\n",
       "       [ 46.62168989,  24.74440407],\n",
       "       [ 46.70860494,  24.74359013],\n",
       "       [ 46.6951583 ,  24.6755173 ],\n",
       "       [ 46.67823   ,  24.63315   ],\n",
       "       [ 46.56278   ,  24.55328   ],\n",
       "       [ 46.77581714,  24.71065635],\n",
       "       [ 46.8487156 ,  24.7236927 ],\n",
       "       [ 46.8487804 ,  24.7236656 ],\n",
       "       [ 46.8487613 ,  24.723709  ],\n",
       "       [ 46.63452   ,  24.73007   ],\n",
       "       [ 46.7680203 ,  24.7112291 ],\n",
       "       [ 46.67323201,  24.71304351],\n",
       "       [ 46.8441803 ,  24.7233334 ],\n",
       "       [ 46.66770568,  24.71638106],\n",
       "       [ 46.79209329,  24.70729734],\n",
       "       [ 46.63995   ,  24.75215   ],\n",
       "       [ 46.60359561,  24.71766838],\n",
       "       [ 46.7224    ,  24.688     ],\n",
       "       [ 46.66164   ,  24.70817   ],\n",
       "       [ 46.58295745,  24.7429514 ],\n",
       "       [ 46.67887   ,  24.62535   ],\n",
       "       [ 46.77445   ,  24.72284   ],\n",
       "       [ 46.84418   ,  24.7233336 ],\n",
       "       [ 46.69510916,  24.71719361],\n",
       "       [ 46.6868158 ,  24.7497335 ],\n",
       "       [ 46.59232657,  24.59672755],\n",
       "       [ 46.63496266,  24.72960337],\n",
       "       [ 46.81323289,  24.67937733],\n",
       "       [ 46.59263226,  24.59619157],\n",
       "       [ 46.8441812 ,  24.7233343 ],\n",
       "       [ 46.75303993,  24.73031492],\n",
       "       [ 46.69088706,  24.62893197],\n",
       "       [ 46.85634731,  24.74885545],\n",
       "       [ 46.6623691 ,  24.5912969 ],\n",
       "       [ 46.7224    ,  24.688     ],\n",
       "       [ 46.667609  ,  24.7162077 ],\n",
       "       [ 46.62163048,  24.7129156 ],\n",
       "       [ 46.69088706,  24.62893197],\n",
       "       [ 46.6779299 ,  24.6329169 ],\n",
       "       [ 46.70235595,  24.65079162],\n",
       "       [ 46.63044882,  24.7408403 ],\n",
       "       [ 46.7728    ,  24.6408    ],\n",
       "       [ 46.63044882,  24.7408403 ],\n",
       "       [ 46.7723425 ,  24.7589959 ],\n",
       "       [ 46.68545816,  24.64736825],\n",
       "       [ 46.692138  ,  24.674564  ],\n",
       "       [ 46.83556538,  24.70549028],\n",
       "       [ 46.69046   ,  24.72684   ],\n",
       "       [ 46.71201822,  24.59052865],\n",
       "       [ 46.67582252,  24.67566508],\n",
       "       [ 46.66773843,  24.71624022],\n",
       "       [ 46.62187   ,  24.68374   ],\n",
       "       [ 46.714585  ,  24.647325  ],\n",
       "       [ 46.69961862,  24.55574318],\n",
       "       [ 46.67179067,  24.73056174],\n",
       "       [ 46.69335   ,  24.62192   ],\n",
       "       [ 46.85470979,  24.74815897],\n",
       "       [ 46.61543   ,  24.72248   ],\n",
       "       [ 46.67703921,  24.70042769],\n",
       "       [ 46.67926518,  24.63328016],\n",
       "       [ 46.69608214,  24.61974718],\n",
       "       [ 46.70056   ,  24.73422   ],\n",
       "       [ 46.63456686,  24.73064571],\n",
       "       [ 46.7393414 ,  24.6010523 ],\n",
       "       [ 46.70053472,  24.6580265 ],\n",
       "       [ 46.714585  ,  24.647325  ],\n",
       "       [ 46.8486714 ,  24.7238789 ],\n",
       "       [ 46.83150604,  24.68796574],\n",
       "       [ 46.69777   ,  24.70235   ],\n",
       "       [ 46.73934773,  24.75722628],\n",
       "       [ 46.714585  ,  24.647325  ],\n",
       "       [ 46.78177165,  24.66804689],\n",
       "       [ 46.6919788 ,  24.6282511 ],\n",
       "       [ 46.71373307,  24.69166161],\n",
       "       [ 46.77536409,  24.73419731],\n",
       "       [ 46.7224    ,  24.688     ],\n",
       "       [ 46.92747731,  24.62219853],\n",
       "       [ 46.92762025,  24.62267218],\n",
       "       [ 46.73325887,  24.54193203],\n",
       "       [ 46.73833371,  24.75657178],\n",
       "       [ 46.68537849,  24.64697986],\n",
       "       [ 46.86976179,  24.52525613],\n",
       "       [ 46.714585  ,  24.647325  ],\n",
       "       [ 46.63372   ,  24.72973   ],\n",
       "       [ 46.714585  ,  24.647325  ],\n",
       "       [ 46.61420144,  24.71748822],\n",
       "       [ 46.73935473,  24.7572262 ],\n",
       "       [ 46.7728    ,  24.6408    ],\n",
       "       [ 46.73325792,  24.54191434],\n",
       "       [ 46.73825844,  24.75662446],\n",
       "       [ 46.67635   ,  24.676143  ],\n",
       "       [ 46.714585  ,  24.647325  ],\n",
       "       [ 46.63246068,  24.72929951],\n",
       "       [ 46.67663   ,  24.67157   ],\n",
       "       [ 46.92750959,  24.62273436],\n",
       "       [ 46.7205296 ,  24.7044445 ],\n",
       "       [ 46.64007   ,  24.72571   ],\n",
       "       [ 46.73866983,  24.75691786],\n",
       "       [ 46.67178   ,  24.73051   ],\n",
       "       [ 46.68221712,  24.68708889],\n",
       "       [ 46.7338747 ,  24.75814919],\n",
       "       [ 46.63246068,  24.72929951],\n",
       "       [ 46.63506161,  24.72866044],\n",
       "       [ 46.8211061 ,  24.7073158 ],\n",
       "       [ 46.68645779,  24.68239811],\n",
       "       [ 46.714585  ,  24.647325  ],\n",
       "       [ 46.73846078,  24.75663368],\n",
       "       [ 46.8211065 ,  24.7073153 ],\n",
       "       [ 46.74643393,  24.63989745],\n",
       "       [ 46.74188262,  24.75475463],\n",
       "       [ 46.714585  ,  24.647325  ],\n",
       "       [ 46.71045793,  24.65970446],\n",
       "       [ 46.7224    ,  24.688     ],\n",
       "       [ 46.73853693,  24.75691788],\n",
       "       [ 46.59392355,  24.5811293 ],\n",
       "       [ 46.73814487,  24.75678728],\n",
       "       [ 46.63498151,  24.7284541 ],\n",
       "       [ 46.63506161,  24.72866044],\n",
       "       [ 46.73936559,  24.75723141],\n",
       "       [ 46.75298286,  24.60946079],\n",
       "       [ 46.59392355,  24.5811293 ],\n",
       "       [ 46.7382576 ,  24.75673749],\n",
       "       [ 46.63246068,  24.72929951],\n",
       "       [ 46.62137055,  24.71303653],\n",
       "       [ 46.73936824,  24.75723105],\n",
       "       [ 46.613554  ,  24.717936  ],\n",
       "       [ 46.73824092,  24.75672169],\n",
       "       [ 46.73820731,  24.75673665],\n",
       "       [ 46.63718   ,  24.60836   ],\n",
       "       [ 46.8211061 ,  24.7073161 ],\n",
       "       [ 46.8211056 ,  24.707317  ],\n",
       "       [ 46.6951469 ,  24.6755323 ],\n",
       "       [ 46.7392325 ,  24.75717086],\n",
       "       [ 46.6921434 ,  24.7388579 ],\n",
       "       [ 46.85747   ,  24.75269   ],\n",
       "       [ 46.63496266,  24.72960337],\n",
       "       [ 46.73920586,  24.75714766],\n",
       "       [ 46.75894621,  24.70935495],\n",
       "       [ 46.73918784,  24.75715127],\n",
       "       [ 46.68515125,  24.68725142],\n",
       "       [ 46.8211064 ,  24.7073156 ],\n",
       "       [ 46.68418434,  24.75690004],\n",
       "       [ 46.73838989,  24.75670618],\n",
       "       [ 46.73834704,  24.75669328],\n",
       "       [ 46.66763722,  24.71605107],\n",
       "       [ 46.6367014 ,  24.72449991],\n",
       "       [ 46.63228   ,  24.74217   ],\n",
       "       [ 46.711911  ,  24.7080447 ],\n",
       "       [ 46.69681933,  24.73475015],\n",
       "       [ 46.67961352,  24.74606421],\n",
       "       [ 46.63501449,  24.72947822],\n",
       "       [ 46.73835835,  24.75670044],\n",
       "       [ 46.7210276 ,  24.6888621 ],\n",
       "       [ 46.73835659,  24.75669856],\n",
       "       [ 46.8693465 ,  24.6628075 ],\n",
       "       [ 46.8693465 ,  24.6628075 ],\n",
       "       [ 46.69675875,  24.73472497],\n",
       "       [ 46.71045793,  24.65970446],\n",
       "       [ 46.8693465 ,  24.6628075 ],\n",
       "       [ 46.70033   ,  24.65808   ],\n",
       "       [ 46.74291203,  24.69679301],\n",
       "       [ 46.6951277 ,  24.6755663 ],\n",
       "       [ 46.63718   ,  24.60836   ],\n",
       "       [ 46.61739349,  24.72679691]])"
      ]
     },
     "execution_count": 6,
     "metadata": {},
     "output_type": "execute_result"
    }
   ],
   "source": [
    "# Import additional libraries\n",
    "from os import listdir\n",
    "from os.path import isfile, join\n",
    "import numpy as np\n",
    "import matplotlib.pyplot as plt\n",
    "%matplotlib inline\n",
    "\n",
    "# Get the file names from a given directory\n",
    "file_dir = 'data/sample_tweets'\n",
    "onlyfiles = [ f for f in listdir(file_dir) if isfile(join(file_dir,f)) and not f.startswith('.')]\n",
    "\n",
    "# Initialize some lists to store the points, and the ids of the tweets\n",
    "ids = []\n",
    "all_pts = []\n",
    "# Loop through all the files\n",
    "for file in onlyfiles:\n",
    "    full_dir = join(file_dir,file)\n",
    "    # Open the JSON\n",
    "    with open(full_dir) as f:\n",
    "        data = f.read()\n",
    "        # Load the JSON as a dict\n",
    "        dict = json.loads(data)\n",
    "        # Only add the unique tweets to the list\n",
    "        if not isinstance(dict, list):\n",
    "            for key, val in dict.iteritems():\n",
    "                if key not in ids:\n",
    "                    ids.append(key)\n",
    "                    lat = val['lat']\n",
    "                    lon = val['lon']\n",
    "                    all_pts.append([lat,lon])\n",
    "pts = np.array(all_pts)\n",
    "pts                "
   ]
  },
  {
   "cell_type": "markdown",
   "metadata": {},
   "source": [
    "### 5. Plot some Tweets\n",
    "We can use **matplotlib** to visualize some tweets."
   ]
  },
  {
   "cell_type": "code",
   "execution_count": 7,
   "metadata": {
    "collapsed": false
   },
   "outputs": [
    {
     "data": {
      "text/plain": [
       "<matplotlib.collections.PathCollection at 0xbbca208>"
      ]
     },
     "execution_count": 7,
     "metadata": {},
     "output_type": "execute_result"
    },
    {
     "data": {
      "image/png": "[encoded data removed]",
      "text/plain": [
       "<matplotlib.figure.Figure at 0x43fda58>"
      ]
     },
     "metadata": {},
     "output_type": "display_data"
    }
   ],
   "source": [
    "# Use a scatter plot to make a quick visualization of the data points\n",
    "plt.scatter(pts[:,0], pts[:,1])"
   ]
  },
  {
   "cell_type": "markdown",
   "metadata": {},
   "source": [
    "#### Exercise:\n",
    "Lets make sure that we don't get tweets plotted more than once. How would you make sure to only plot unique tweets? We can maybe:\n",
    "\n",
    "* Construct a list with unique id's\n",
    "* Only add the tweets to the `numpy.array` if the tweet doesn't exist in the list."
   ]
  },
  {
   "cell_type": "code",
   "execution_count": null,
   "metadata": {
    "collapsed": true
   },
   "outputs": [],
   "source": [
    "# Your code here.\n"
   ]
  }
 ],
 "metadata": {
  "kernelspec": {
   "display_name": "Python 2",
   "language": "python",
   "name": "python2"
  },
  "language_info": {
   "codemirror_mode": {
    "name": "ipython",
    "version": 2
   },
   "file_extension": ".py",
   "mimetype": "text/x-python",
   "name": "python",
   "nbconvert_exporter": "python",
   "pygments_lexer": "ipython2",
   "version": "2.7.11"
  }
 },
 "nbformat": 4,
 "nbformat_minor": 0
}
